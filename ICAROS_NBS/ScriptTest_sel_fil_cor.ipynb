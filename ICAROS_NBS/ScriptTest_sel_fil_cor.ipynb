{
 "cells": [
  {
   "cell_type": "markdown",
   "metadata": {},
   "source": [
    "# Selection of krypton events in terms of S1 and S2"
   ]
  },
  {
   "cell_type": "markdown",
   "metadata": {},
   "source": [
    "## Authors: JMH, JAH, GML, JJGC"
   ]
  },
  {
   "cell_type": "markdown",
   "metadata": {},
   "source": [
    "### Software: KrCalib : https://github.com/nextic/KrCalib/"
   ]
  },
  {
   "cell_type": "markdown",
   "metadata": {},
   "source": [
    "### Description:\n",
    "\n",
    "- <RUN_PARAMS>\n"
   ]
  },
  {
   "cell_type": "code",
   "execution_count": 1,
   "metadata": {},
   "outputs": [
    {
     "name": "stdout",
     "output_type": "stream",
     "text": [
      "Last updated on  Mon Oct 21 13:07:47 2019\n"
     ]
    }
   ],
   "source": [
    "import time\n",
    "print(\"Last updated on \", time.asctime())"
   ]
  },
  {
   "cell_type": "code",
   "execution_count": 2,
   "metadata": {},
   "outputs": [],
   "source": [
    "run_number  = 7517\n",
    "file_range  = 0, 1 \n",
    "num_files = 1\n",
    "analysis_tag = 'ScriptTest'\n",
    "output = False\n",
    "\n",
    "if num_files > 7729:\n",
    "    num_xy_bins = 100\n",
    "else:\n",
    "    num_xy_bins = 50\n",
    "\n",
    "num_xy_bins = 10\n",
    "    \n",
    "t0 = time.time()\n",
    "last_time = t0\n",
    "\n",
    "input_path  = f\"$IC_DATA/kdst\"\n",
    "output_path = f\"$IC_DATA/\"+analysis_tag+\"/dst\"\n",
    "trigger     = 'trigger1'\n",
    "\n",
    "bootstrap_correction_filename   = '/Users/jmhaefner/Development/KryptonCalibration/InteractiveNBs/ICAROS_NBS/kr_emap_xy_100_100_r_6573_time.h5'\n",
    "write_filtered_dst = True"
   ]
  },
  {
   "cell_type": "code",
   "execution_count": 3,
   "metadata": {},
   "outputs": [],
   "source": [
    "%matplotlib inline\n",
    "%load_ext autoreload\n",
    "%autoreload 2\n",
    "import matplotlib.pyplot as plt\n",
    "plt.rcParams[\"figure.figsize\"] = 10, 8\n",
    "plt.rcParams[\"font.size\"     ] = 14"
   ]
  },
  {
   "cell_type": "code",
   "execution_count": 4,
   "metadata": {},
   "outputs": [],
   "source": [
    "import os\n",
    "import time\n",
    "import datetime \n",
    "import numpy as np\n",
    "import pandas as pd\n",
    "import tables            as tb\n",
    "import random\n",
    "import glob\n",
    "import seaborn as sns\n",
    "sns.set()"
   ]
  },
  {
   "cell_type": "code",
   "execution_count": 5,
   "metadata": {},
   "outputs": [],
   "source": [
    "from  invisible_cities.io.dst_io              import load_dsts\n",
    "from  invisible_cities.core .core_functions   import in_range\n",
    "from  invisible_cities.core.system_of_units_c import units\n"
   ]
  },
  {
   "cell_type": "code",
   "execution_count": 6,
   "metadata": {},
   "outputs": [],
   "source": [
    "from krcal.core.io_functions       import filenames_from_paths\n",
    "from krcal.core.io_functions       import write_monitor_vars\n",
    "from krcal.core.io_functions       import kdst_write\n",
    "from krcal.core.histo_functions    import h1, h1d, h2d, plot_histo"
   ]
  },
  {
   "cell_type": "code",
   "execution_count": 7,
   "metadata": {},
   "outputs": [],
   "source": [
    "from krcal.core.kr_types           import PlotLabels\n",
    "from krcal.core.ranges_and_bins_functions      import kr_ranges_and_bins\n",
    "from krcal.core.analysis_functions import kr_event\n",
    "from krcal.core.analysis_functions import selection_info\n",
    "from krcal.core.analysis_functions import selection_in_band\n",
    "from krcal.core.analysis_functions import plot_selection_in_band\n",
    "from krcal.core.s1s2_functions     import s1d_from_dst\n",
    "from krcal.core.s1s2_functions     import s2d_from_dst\n",
    "from krcal.core.s1s2_functions     import plot_s1histos\n",
    "from krcal.core.s1s2_functions     import plot_s2histos"
   ]
  },
  {
   "cell_type": "code",
   "execution_count": 8,
   "metadata": {},
   "outputs": [],
   "source": [
    "from krcal.core.plt_functions      import plot_xy_density\n",
    "from krcal.core.plt_functions      import plot_s1_vs_z\n",
    "from krcal.core.plt_functions      import plot_s2_vs_z\n",
    "from krcal.core.plt_functions      import plot_s2_vs_s1\n",
    "from krcal.core.plt_functions      import plot_q_vs_s2\n",
    "from krcal.core.plt_functions      import plot_energy_distributions\n",
    "from krcal.core.plt_functions      import plot_energy_vs_t\n"
   ]
  },
  {
   "cell_type": "code",
   "execution_count": 9,
   "metadata": {},
   "outputs": [],
   "source": [
    "import krcal.dev.corrections       as corrections \n",
    "import krcal.utils.hst_extend_functions as hst"
   ]
  },
  {
   "cell_type": "code",
   "execution_count": 10,
   "metadata": {},
   "outputs": [],
   "source": [
    "from krcal.core.core_functions          import time_delta_from_time"
   ]
  },
  {
   "cell_type": "markdown",
   "metadata": {},
   "source": [
    "### Create vals file"
   ]
  },
  {
   "cell_type": "markdown",
   "metadata": {},
   "source": [
    "### Input/output "
   ]
  },
  {
   "cell_type": "code",
   "execution_count": 11,
   "metadata": {},
   "outputs": [
    {
     "name": "stdout",
     "output_type": "stream",
     "text": [
      "input dsts:\n",
      " first = /Users/jmhaefner/Development/KryptonCalibration/InteractiveNBs/ICAROS_NBS/kdst_7517_LB_0-100_TestMapScript.h5\n",
      " last = /Users/jmhaefner/Development/KryptonCalibration/InteractiveNBs/ICAROS_NBS/kdst_7517_LB_0-100_TestMapScript.h5\n",
      "output dst = dst_test.h5\n",
      "time before dst load = 7\n"
     ]
    }
   ],
   "source": [
    "input_dst_filenames = ['/Users/jmhaefner/Development/KryptonCalibration/InteractiveNBs/ICAROS_NBS/kdst_7517_LB_0-100_TestMapScript.h5']\n",
    "output_dst_filename = 'dst_test.h5'\n",
    "print(f'input dsts:\\n first = {input_dst_filenames[0]}\\n last = {input_dst_filenames[-1]}')\n",
    "print(f\"output dst = {output_dst_filename}\")\n",
    "\n",
    "print('time before dst load =', round(time.time() - last_time))\n",
    "last_time = time.time()"
   ]
  },
  {
   "cell_type": "code",
   "execution_count": 12,
   "metadata": {},
   "outputs": [
    {
     "name": "stdout",
     "output_type": "stream",
     "text": [
      "time to load dst = 1\n"
     ]
    }
   ],
   "source": [
    "dst_full           = load_dsts(input_dst_filenames, \"DST\", \"Events\")\n",
    "print('time to load dst =', round(time.time() - last_time))\n",
    "last_time = time.time()"
   ]
  },
  {
   "cell_type": "code",
   "execution_count": 13,
   "metadata": {},
   "outputs": [
    {
     "name": "stdout",
     "output_type": "stream",
     "text": [
      "Total number of S2s   : 63176 \n",
      "Total number of events: 54091\n"
     ]
    }
   ],
   "source": [
    "unique_events = ~dst_full.event.duplicated()\n",
    "\n",
    "number_of_S2s_full  = np.size         (unique_events)\n",
    "number_of_evts_full = np.count_nonzero(unique_events)\n",
    "\n",
    "print(f\"Total number of S2s   : {number_of_S2s_full} \")\n",
    "print(f\"Total number of events: {number_of_evts_full}\")"
   ]
  },
  {
   "cell_type": "markdown",
   "metadata": {},
   "source": [
    "### Select events with 1 S1"
   ]
  },
  {
   "cell_type": "code",
   "execution_count": 14,
   "metadata": {},
   "outputs": [],
   "source": [
    "dst1s1 = dst_full[dst_full.nS1==1]"
   ]
  },
  {
   "cell_type": "markdown",
   "metadata": {},
   "source": [
    "### Select events with 1 S2"
   ]
  },
  {
   "cell_type": "code",
   "execution_count": 15,
   "metadata": {},
   "outputs": [],
   "source": [
    "dst    = dst1s1[dst1s1.nS2==1]"
   ]
  },
  {
   "cell_type": "markdown",
   "metadata": {},
   "source": [
    "### Cut on R < 200"
   ]
  },
  {
   "cell_type": "code",
   "execution_count": 16,
   "metadata": {},
   "outputs": [],
   "source": [
    "dst     = dst[dst.R < 200]"
   ]
  },
  {
   "cell_type": "markdown",
   "metadata": {},
   "source": [
    "### Fiducial selection in S1"
   ]
  },
  {
   "cell_type": "markdown",
   "metadata": {},
   "source": [
    "#### 3 < S1e < 25 pes, which cuts off very low and high energy events"
   ]
  },
  {
   "cell_type": "code",
   "execution_count": 17,
   "metadata": {},
   "outputs": [],
   "source": [
    "s1e_range =(3, 25)"
   ]
  },
  {
   "cell_type": "code",
   "execution_count": 18,
   "metadata": {},
   "outputs": [],
   "source": [
    "dst    = dst[in_range(dst.S1e, *s1e_range)] "
   ]
  },
  {
   "cell_type": "markdown",
   "metadata": {},
   "source": [
    "### Fiducial selection in S2"
   ]
  },
  {
   "cell_type": "code",
   "execution_count": 19,
   "metadata": {},
   "outputs": [],
   "source": [
    "s2e_range =(8000, 14000)\n",
    "s2q_range =(200, 800)"
   ]
  },
  {
   "cell_type": "code",
   "execution_count": 20,
   "metadata": {},
   "outputs": [],
   "source": [
    "dst_s2e    = dst[in_range(dst.S2e, *s2e_range)]\n",
    "dst_s2q    = dst_s2e[in_range(dst_s2e.S2q, *s2q_range)]\n",
    "dst = dst_s2q"
   ]
  },
  {
   "cell_type": "markdown",
   "metadata": {},
   "source": [
    "### Time differences in seconds"
   ]
  },
  {
   "cell_type": "code",
   "execution_count": 21,
   "metadata": {},
   "outputs": [],
   "source": [
    "dst_time = dst.sort_values('event')\n",
    "T       = dst_time.time.values\n",
    "DT      = time_delta_from_time(T)"
   ]
  },
  {
   "cell_type": "markdown",
   "metadata": {},
   "source": [
    "### Define ranges and bins"
   ]
  },
  {
   "cell_type": "code",
   "execution_count": 22,
   "metadata": {},
   "outputs": [],
   "source": [
    "krTimes, krRanges, krNbins, krBins = kr_ranges_and_bins(dst,\n",
    "                                                        xxrange   = (-200,  200),\n",
    "                                                        yrange    = (-200,  200),\n",
    "                                                        zrange    = (10,  550),\n",
    "                                                        s2erange  = s2e_range,\n",
    "                                                        s1erange  = s1e_range,\n",
    "                                                        s2qrange  = s2q_range,\n",
    "                                                        xnbins    = num_xy_bins,\n",
    "                                                        ynbins    = num_xy_bins,\n",
    "                                                        znbins    = 15,\n",
    "                                                        s2enbins  = 25,\n",
    "                                                        s1enbins  = 25,\n",
    "                                                        s2qnbins  = 25,\n",
    "                                                        tpsamples = 1) # tsamples in seconds"
   ]
  },
  {
   "cell_type": "code",
   "execution_count": 23,
   "metadata": {},
   "outputs": [],
   "source": [
    "kge = kr_event(dst, DT, dst.S2e, dst.S2q)"
   ]
  },
  {
   "cell_type": "markdown",
   "metadata": {},
   "source": [
    "### Select central region in R "
   ]
  },
  {
   "cell_type": "markdown",
   "metadata": {},
   "source": [
    "#### The effect is to reduce the dependence of geometrical corrections"
   ]
  },
  {
   "cell_type": "code",
   "execution_count": 24,
   "metadata": {},
   "outputs": [],
   "source": [
    "dst_R     = dst[dst.R < 100]"
   ]
  },
  {
   "cell_type": "markdown",
   "metadata": {},
   "source": [
    "### Select central region in Z\n",
    "\n",
    "- The effect is to reduce the dependence of lifetime"
   ]
  },
  {
   "cell_type": "code",
   "execution_count": 25,
   "metadata": {},
   "outputs": [],
   "source": [
    "dst_core     = dst_R[dst_R.Z < 200]"
   ]
  },
  {
   "cell_type": "markdown",
   "metadata": {},
   "source": [
    "### Apply bootstrap corrections.\n",
    "\n",
    "- One can correct S2e and S2q by geometrical corrections using an existing map (a bootstrap map). This has the effect to reduce the geometrical dependence on both distributions, permitting an additional filtering"
   ]
  },
  {
   "cell_type": "code",
   "execution_count": 26,
   "metadata": {},
   "outputs": [],
   "source": [
    "kre = kr_event(dst)"
   ]
  },
  {
   "cell_type": "code",
   "execution_count": 27,
   "metadata": {},
   "outputs": [],
   "source": [
    "from krcal.core.io_functions       import read_maps\n",
    "from krcal.core.correction_functions import e0_xy_correction\n",
    "from krcal.core.map_functions   import amap_max\n",
    "\n",
    "emaps = read_maps(filename=bootstrap_correction_filename)\n",
    "norm = amap_max(emaps)\n",
    "E = e0_xy_correction(dst.S2e.values,\n",
    "                      dst.X.values,\n",
    "                      dst.Y.values,\n",
    "                      E0M = emaps.e0 / norm.e0, \n",
    "                      xr  = krRanges.X,\n",
    "                      yr  = krRanges.Y,\n",
    "                      nx  = 100, \n",
    "                      ny  = 100)\n",
    "Q = e0_xy_correction(dst.S2q.values,\n",
    "                      dst.X.values,\n",
    "                      dst.Y.values,\n",
    "                      E0M = emaps.e0 / norm.e0, \n",
    "                      xr  = krRanges.X,\n",
    "                      yr  = krRanges.Y,\n",
    "                      nx  = 100, \n",
    "                      ny  = 100)"
   ]
  },
  {
   "cell_type": "code",
   "execution_count": 28,
   "metadata": {},
   "outputs": [],
   "source": [
    "kge = kr_event(dst, DT, E, Q)"
   ]
  },
  {
   "cell_type": "markdown",
   "metadata": {},
   "source": [
    "### Filter"
   ]
  },
  {
   "cell_type": "code",
   "execution_count": 29,
   "metadata": {},
   "outputs": [],
   "source": [
    "range_krs2 = (10e+3,14e+3)"
   ]
  },
  {
   "cell_type": "code",
   "execution_count": 30,
   "metadata": {},
   "outputs": [
    {
     "name": "stderr",
     "output_type": "stream",
     "text": [
      "/Users/jmhaefner/ICAROS/krcal/core/fit_functions.py:48: UserWarning: nof = 0 in chi2 calculation, return chi2 = {chi2_}\n",
      "  warnings.warn('nof = 0 in chi2 calculation, return chi2 = {chi2_}', UserWarning)\n",
      "/Users/jmhaefner/ICAROS/krcal/core/fit_functions.py:48: UserWarning: nof = 0 in chi2 calculation, return chi2 = {chi2_}\n",
      "  warnings.warn('nof = 0 in chi2 calculation, return chi2 = {chi2_}', UserWarning)\n"
     ]
    }
   ],
   "source": [
    "sel_krband, fpl, fph, hp, pp = selection_in_band(kre.Z, E,\n",
    "                                                 range_z = krRanges.Z,\n",
    "                                                 range_e = range_krs2,\n",
    "                                                 nbins_z = 15,\n",
    "                                                 nbins_e = 25,\n",
    "                                                 nsigma  = 3.5)\n"
   ]
  },
  {
   "cell_type": "code",
   "execution_count": 31,
   "metadata": {},
   "outputs": [
    {
     "data": {
      "image/png": "[encoded data removed]",
      "text/plain": [
       "<Figure size 720x432 with 1 Axes>"
      ]
     },
     "metadata": {},
     "output_type": "display_data"
    }
   ],
   "source": [
    "plot_selection_in_band(fpl, fph, hp, pp)"
   ]
  },
  {
   "cell_type": "code",
   "execution_count": 32,
   "metadata": {},
   "outputs": [],
   "source": [
    "kges = kr_event(dst, DT, E, Q, sel_mask=sel_krband)"
   ]
  },
  {
   "cell_type": "markdown",
   "metadata": {},
   "source": [
    "### Select dst "
   ]
  },
  {
   "cell_type": "code",
   "execution_count": 33,
   "metadata": {},
   "outputs": [],
   "source": [
    "dsts = dst[sel_krband]"
   ]
  },
  {
   "cell_type": "markdown",
   "metadata": {},
   "source": [
    "### Write DST (merged and fiducial)"
   ]
  },
  {
   "cell_type": "code",
   "execution_count": 34,
   "metadata": {},
   "outputs": [
    {
     "name": "stdout",
     "output_type": "stream",
     "text": [
      "Time after loading to before writing = 4\n"
     ]
    }
   ],
   "source": [
    "print('Time after loading to before writing =', round(time.time() - last_time))\n",
    "last_time = time.time()"
   ]
  },
  {
   "cell_type": "code",
   "execution_count": 35,
   "metadata": {},
   "outputs": [],
   "source": [
    "if output:\n",
    "    import subprocess\n",
    "\n",
    "    bash_mkdir = \"mkdir \" + os.environ['IC_DATA']+analysis_tag\n",
    "    process = subprocess.Popen(bash_mkdir, stdout=subprocess.PIPE, shell=True).wait()\n",
    "    bash_mkdir = \"mkdir \" + output_dst_filename[:output_dst_filename.rfind('/')+1]\n",
    "    process = subprocess.Popen(bash_mkdir, stdout=subprocess.PIPE, shell=True).wait()\n",
    "\n",
    "    output_dst = tb.open_file(output_dst_filename, 'w')\n",
    "\n",
    "    from invisible_cities.io.dst_io import _store_pandas_as_tables\n",
    "    import h5py\n",
    "\n",
    "    _store_pandas_as_tables(h5out = output_dst, df = dsts, group_name = 'DST', table_name = 'Events')\n",
    "\n",
    "    output_dst.close()"
   ]
  },
  {
   "cell_type": "markdown",
   "metadata": {},
   "source": [
    "# Krypton Lifetime maps"
   ]
  },
  {
   "cell_type": "markdown",
   "metadata": {},
   "source": [
    "### Author:  JMH, JJGC"
   ]
  },
  {
   "cell_type": "markdown",
   "metadata": {},
   "source": [
    "### Software: KrCalib : https://github.com/nextic/KrCalib/"
   ]
  },
  {
   "cell_type": "code",
   "execution_count": 36,
   "metadata": {},
   "outputs": [],
   "source": [
    "from krcal.core.kr_types import KrFileName\n",
    "\n",
    "input_tag = 'ScriptTest'\n",
    "\n",
    "regularize = False\n",
    "\n",
    "t_start = time.time()\n",
    "\n",
    "lifetime_limits = (1000, 15000)\n",
    "e0_limits = (7000, 14000)\n",
    "e0_limits_rphi = (12000, 14000)\n",
    "\n",
    "input_path  = f\"$IC_DATA/\"+input_tag+\"/dst\"\n",
    "map_path    = f\"$IC_DATA/\"+analysis_tag+\"/maps\"\n",
    "\n",
    "input_file_name = 'dst_test.h5'\n",
    "input_file_names  = [ input_file_name ]\n",
    "    \n",
    "time_bins = 10\n",
    "output_file_name  = ' '\n",
    "map_file_name     = 'kr_maps_xy_'+str(run_number)+'.h5'\n",
    "map_file_name_ts  = f'kr_maps_rphi_5_8_ts_{time_bins}_'+str(run_number)+'.h5'\n",
    "emap_file_name    = 'kr_emap_xy_'+str(num_xy_bins)+'_'+str(num_xy_bins)+'_r_'+str(run_number)+'_'+analysis_tag+'.h5'"
   ]
  },
  {
   "cell_type": "code",
   "execution_count": 37,
   "metadata": {},
   "outputs": [],
   "source": [
    "import warnings\n",
    "from krcal.core.io_functions       import write_maps\n",
    "from krcal.core.kr_types import FitType, KrSector, MapType\n",
    "from krcal.core.map_functions   import tsmap_from_fmap\n",
    "from krcal.core.map_functions   import amap_from_tsmap\n",
    "from krcal.core.map_functions   import relative_errors\n",
    "from krcal.core.map_functions   import amap_average\n",
    "from krcal.core.map_functions   import amap_replace_nan_by_mean\n",
    "from krcal.core.map_functions   import add_mapinfo\n",
    "from krcal.core.xy_maps_functions   import draw_xy_maps\n",
    "from krcal.core.selection_functions  import event_map_df\n",
    "from krcal.core.selection_functions  import select_xy_sectors_df\n",
    "from krcal.core.fitmap_functions     import fit_map_xy_df"
   ]
  },
  {
   "cell_type": "markdown",
   "metadata": {},
   "source": [
    "### Input/output "
   ]
  },
  {
   "cell_type": "code",
   "execution_count": 38,
   "metadata": {},
   "outputs": [
    {
     "name": "stdout",
     "output_type": "stream",
     "text": [
      "Read in file time: t = 8.20159912109375e-05\n"
     ]
    }
   ],
   "source": [
    "t0 = time.time()\n",
    "dst = dsts\n",
    "if output:\n",
    "    dst           = load_dsts([input_file_name], \"DST\", \"Events\")\n",
    "t1 = time.time()\n",
    "print(f'Read in file time: t = {t1 -t0}')"
   ]
  },
  {
   "cell_type": "code",
   "execution_count": 39,
   "metadata": {},
   "outputs": [
    {
     "name": "stdout",
     "output_type": "stream",
     "text": [
      "Total number of events: 40551\n"
     ]
    }
   ],
   "source": [
    "unique_events = ~dst.event.duplicated()\n",
    "number_of_evts_full = np.count_nonzero(unique_events)\n",
    "\n",
    "print(f\"Total number of events: {len(dst)}\")"
   ]
  },
  {
   "cell_type": "markdown",
   "metadata": {},
   "source": [
    "### Time differences in seconds"
   ]
  },
  {
   "cell_type": "code",
   "execution_count": 40,
   "metadata": {},
   "outputs": [],
   "source": [
    "dst_time = dst.sort_values('time')\n",
    "T       = dst_time.time.values\n",
    "DT      = time_delta_from_time(T)"
   ]
  },
  {
   "cell_type": "markdown",
   "metadata": {},
   "source": [
    "### Ranges and binning"
   ]
  },
  {
   "cell_type": "code",
   "execution_count": 41,
   "metadata": {},
   "outputs": [],
   "source": [
    "RMAX      = 200\n",
    "RCORE     = 100\n",
    "s1e_range = (3, 25)\n",
    "s2e_range = (10000, 14000)\n",
    "s2q_range = (200, 800)\n",
    "\n",
    "xy_range  = (-RMAX,  RMAX)\n",
    "z_range   = (10,  550)\n",
    "e_range = (5000, 18000)\n",
    "lt_range = (1000, 9000)\n",
    "c2_range = (0,5)\n",
    "\n",
    "krTimes, krRanges, krNbins, krBins = kr_ranges_and_bins(dst,\n",
    "                                                        xxrange   = xy_range,\n",
    "                                                        yrange    = xy_range,\n",
    "                                                        zrange    = z_range,\n",
    "                                                        s2erange  = s2e_range,\n",
    "                                                        s1erange  = s1e_range,\n",
    "                                                        s2qrange  = s2q_range,\n",
    "                                                        xnbins    = num_xy_bins,\n",
    "                                                        ynbins    = num_xy_bins,\n",
    "                                                        znbins    = 15,\n",
    "                                                        s2enbins  = 25,\n",
    "                                                        s1enbins  = 25,\n",
    "                                                        s2qnbins  = 25,\n",
    "                                                        tpsamples = 1) # tsamples in seconds"
   ]
  },
  {
   "cell_type": "code",
   "execution_count": 42,
   "metadata": {},
   "outputs": [],
   "source": [
    "dstFid = dst[in_range(dst.R, 0, RMAX)]"
   ]
  },
  {
   "cell_type": "code",
   "execution_count": 43,
   "metadata": {},
   "outputs": [
    {
     "data": {
      "image/png": "[encoded data removed]",
      "text/plain": [
       "<Figure size 432x288 with 1 Axes>"
      ]
     },
     "metadata": {},
     "output_type": "display_data"
    }
   ],
   "source": [
    "dst_time = dstFid.sort_values('time')\n",
    "T       = dst_time.time.values\n",
    "DT      = time_delta_from_time(T)\n",
    "dst = dst_time.assign(DT=DT)\n",
    "plt.plot(DT)\n",
    "plt.show()"
   ]
  },
  {
   "cell_type": "code",
   "execution_count": 44,
   "metadata": {},
   "outputs": [],
   "source": [
    "kge = kr_event(dst, DT, dst.S2e, dst.S2q)"
   ]
  },
  {
   "cell_type": "markdown",
   "metadata": {},
   "source": [
    "## Divide chamber in sectors of XY"
   ]
  },
  {
   "cell_type": "code",
   "execution_count": 45,
   "metadata": {},
   "outputs": [
    {
     "name": "stdout",
     "output_type": "stream",
     "text": [
      " KRES: t = 0.23964905738830566\n"
     ]
    }
   ],
   "source": [
    "t0 = time.time()\n",
    "KRES = select_xy_sectors_df(dst, krBins.X, krBins.Y)\n",
    "t1 = time.time()\n",
    "print(f' KRES: t = {t1 -t0}')"
   ]
  },
  {
   "cell_type": "code",
   "execution_count": 46,
   "metadata": {},
   "outputs": [],
   "source": [
    "neM = event_map_df(KRES)"
   ]
  },
  {
   "cell_type": "markdown",
   "metadata": {},
   "source": [
    "## Fits in XY sectors"
   ]
  },
  {
   "cell_type": "markdown",
   "metadata": {},
   "source": [
    "## Maps"
   ]
  },
  {
   "cell_type": "markdown",
   "metadata": {},
   "source": [
    "#### fit maps. The object returned is a Dict[int, List[FitParTS]] where\n",
    "\n",
    "```\n",
    "@dataclass\n",
    "class FitParTS:             # Fit parameters Time Series\n",
    "    ts   : np.array          # contains the time series (integers expressing time differences)\n",
    "    e0   : np.array          # e0 fitted in time series\n",
    "    lt   : np.array\n",
    "    c2   : np.array\n",
    "    e0u  : np.array          # e0 error fitted in time series\n",
    "    ltu  : np.arra`\n",
    "```\n"
   ]
  },
  {
   "cell_type": "markdown",
   "metadata": {},
   "source": [
    "### Single time bin"
   ]
  },
  {
   "cell_type": "code",
   "execution_count": 47,
   "metadata": {},
   "outputs": [
    {
     "name": "stdout",
     "output_type": "stream",
     "text": [
      " fpmxy: t = 0.6081359386444092\n"
     ]
    }
   ],
   "source": [
    "t0 = time.time()\n",
    "with warnings.catch_warnings():\n",
    "    warnings.simplefilter(\"ignore\")\n",
    "    fpmxy = fit_map_xy_df(selection_map = KRES,\n",
    "                       event_map     = neM,\n",
    "                       n_time_bins   = 1,\n",
    "                       time_diffs    = DT,\n",
    "                       nbins_z        = krNbins.Z, \n",
    "                       nbins_e        = krNbins.S2e, \n",
    "                       range_z        = z_range, \n",
    "                       range_e        = e_range,\n",
    "                       energy        = 'S2e',\n",
    "                       fit           = FitType.unbined,\n",
    "                       n_min         = 2)\n",
    "\n",
    "t1 = time.time()\n",
    "print(f' fpmxy: t = {t1 -t0}')"
   ]
  },
  {
   "cell_type": "code",
   "execution_count": 48,
   "metadata": {},
   "outputs": [],
   "source": [
    "times = fpmxy[0][0].ts"
   ]
  },
  {
   "cell_type": "code",
   "execution_count": 49,
   "metadata": {},
   "outputs": [],
   "source": [
    "tsm = tsmap_from_fmap(fpmxy)"
   ]
  },
  {
   "cell_type": "markdown",
   "metadata": {},
   "source": [
    "#### There is a single time series (ts = 0)"
   ]
  },
  {
   "cell_type": "code",
   "execution_count": 50,
   "metadata": {},
   "outputs": [],
   "source": [
    "am = amap_from_tsmap(tsm, \n",
    "                     ts = 0, \n",
    "                     range_e     = e_range,\n",
    "                     range_chi2  = c2_range,\n",
    "                     range_lt    = lt_range)"
   ]
  },
  {
   "cell_type": "markdown",
   "metadata": {},
   "source": [
    "#### Get rid of outlayers that distort mean and error"
   ]
  },
  {
   "cell_type": "code",
   "execution_count": 51,
   "metadata": {},
   "outputs": [],
   "source": [
    "def asm_copy(amap):\n",
    "    return ASectorMap(chi2  = amap.chi2.copy(),\n",
    "                      e0    = amap.e0.copy(),\n",
    "                      lt    = amap.lt.copy(),\n",
    "                      e0u   = amap.e0u.copy(),\n",
    "                      ltu   = amap.ltu.copy(),\n",
    "                      mapinfo   = None)\n",
    "\n",
    "def regularize_maps_chi2(amap_old, x2range):\n",
    "\n",
    "    amap = asm_copy(amap_old)\n",
    "    \n",
    "    for i in range(len(amap.lt)):\n",
    "        for j in range(len(amap.lt[i])):\n",
    "            if amap.chi2[i][j] > x2range[1] or amap.chi2[i][j] < x2range[0]:\n",
    "                amap.lt[i][j] = np.nan\n",
    "                amap.ltu[i][j] = np.nan\n",
    "                amap.e0[i][j] = np.nan\n",
    "                amap.e0u[i][j] = np.nan\n",
    "\n",
    "    return amap"
   ]
  },
  {
   "cell_type": "code",
   "execution_count": 52,
   "metadata": {},
   "outputs": [],
   "source": [
    "if regularize:\n",
    "    rmap = regularize_maps_chi2(am, x2range = (0, 2))\n",
    "    amap_average(rmap)\n",
    "    asm = relative_errors(rmap)\n",
    "else:\n",
    "    asm = relative_errors(am)"
   ]
  },
  {
   "cell_type": "code",
   "execution_count": 53,
   "metadata": {},
   "outputs": [],
   "source": [
    "amv = amap_average(asm)"
   ]
  },
  {
   "cell_type": "markdown",
   "metadata": {},
   "source": [
    "#### Draw the maps using default colormap"
   ]
  },
  {
   "cell_type": "code",
   "execution_count": 54,
   "metadata": {},
   "outputs": [],
   "source": [
    "asmAv = amap_replace_nan_by_mean(asm, amMean=amv)"
   ]
  },
  {
   "cell_type": "code",
   "execution_count": 55,
   "metadata": {},
   "outputs": [
    {
     "data": {
      "image/png": "[encoded data removed]",
      "text/plain": [
       "<Figure size 1008x720 with 8 Axes>"
      ]
     },
     "metadata": {},
     "output_type": "display_data"
    }
   ],
   "source": [
    "draw_xy_maps(asmAv,\n",
    "            e0lims  = e0_limits,\n",
    "            ltlims  = lifetime_limits,\n",
    "            eulims  = (0.0,  1),\n",
    "            lulims  = (0, 5),\n",
    "            figsize=(14,10))"
   ]
  },
  {
   "cell_type": "code",
   "execution_count": 56,
   "metadata": {},
   "outputs": [],
   "source": [
    "asm = add_mapinfo(asmAv, krRanges.X, krRanges.Y, krNbins.X, krNbins.Y, run_number)"
   ]
  },
  {
   "cell_type": "code",
   "execution_count": 57,
   "metadata": {},
   "outputs": [
    {
     "data": {
      "text/plain": [
       "'kr_emap_xy_10_10_r_7517_ScriptTest.h5'"
      ]
     },
     "execution_count": 57,
     "metadata": {},
     "output_type": "execute_result"
    }
   ],
   "source": [
    "emap_file_name"
   ]
  },
  {
   "cell_type": "code",
   "execution_count": 58,
   "metadata": {},
   "outputs": [
    {
     "name": "stdout",
     "output_type": "stream",
     "text": [
      "The map info is:\n",
      "xmin          -200\n",
      "xmax           200\n",
      "ymin          -200\n",
      "ymax           200\n",
      "nx              10\n",
      "ny              10\n",
      "run_number    7517\n",
      "dtype: int64\n"
     ]
    }
   ],
   "source": [
    "print('The map info is:')\n",
    "print(asm.mapinfo)\n",
    "if output:\n",
    "    write_maps(asm, filename=emap_file_name)"
   ]
  }
 ],
 "metadata": {
  "kernelspec": {
   "display_name": "Python 3",
   "language": "python",
   "name": "python3"
  },
  "language_info": {
   "codemirror_mode": {
    "name": "ipython",
    "version": 3
   },
   "file_extension": ".py",
   "mimetype": "text/x-python",
   "name": "python",
   "nbconvert_exporter": "python",
   "pygments_lexer": "ipython3",
   "version": "3.7.2"
  }
 },
 "nbformat": 4,
 "nbformat_minor": 2
}
