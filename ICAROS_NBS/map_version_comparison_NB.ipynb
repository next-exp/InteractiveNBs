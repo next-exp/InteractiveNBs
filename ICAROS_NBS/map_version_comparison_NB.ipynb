{
 "cells": [
  {
   "cell_type": "code",
   "execution_count": 1,
   "metadata": {},
   "outputs": [],
   "source": [
    "%%capture\n",
    "! cd $HOME/ICAROS; git checkout master;"
   ]
  },
  {
   "cell_type": "code",
   "execution_count": 2,
   "metadata": {},
   "outputs": [
    {
     "name": "stdout",
     "output_type": "stream",
     "text": [
      "/home/ausonandres/ICAROS_test:/home/ausonandres/IC:/home/ausonandres/ICARO:/data4/NEXT/sw/root/lib:::/data4/NEXT/sw/root/lib\r\n"
     ]
    }
   ],
   "source": [
    "! echo $PYTHONPATH"
   ]
  },
  {
   "cell_type": "code",
   "execution_count": 3,
   "metadata": {},
   "outputs": [],
   "source": [
    "import os\n",
    "import numpy as np\n",
    "import pandas as pd\n",
    "import seaborn as sns\n",
    "sns.set()\n",
    "\n",
    "from  invisible_cities.io.dst_io              import load_dst\n",
    "from  invisible_cities.core .core_functions   import in_range\n",
    "\n",
    "%matplotlib inline\n",
    "%load_ext autoreload\n",
    "%autoreload 2\n",
    "import matplotlib.pyplot as plt\n",
    "plt.rcParams[\"figure.figsize\"] = 10, 8\n",
    "plt.rcParams[\"font.size\"     ] = 14"
   ]
  },
  {
   "cell_type": "code",
   "execution_count": 4,
   "metadata": {},
   "outputs": [],
   "source": [
    "default_n_bins = 10"
   ]
  },
  {
   "cell_type": "markdown",
   "metadata": {},
   "source": [
    "_Downloading files from Marija's dropbox:_"
   ]
  },
  {
   "cell_type": "code",
   "execution_count": 5,
   "metadata": {},
   "outputs": [],
   "source": [
    "%%capture\n",
    "! wget https://www.dropbox.com/s/025si49skkv6n49/kdst_7517_LB_0-100_TestMapScript.h5\n",
    "! wget https://www.dropbox.com/s/3ky8js2yekh4sqw/kr_emap_xy_100_100_r_6573_time.h5\n",
    "! wget https://www.dropbox.com/s/5n9gj9wjcz70na7/z_dst_LB_mean_ref.h5"
   ]
  },
  {
   "cell_type": "markdown",
   "metadata": {},
   "source": [
    "_Setting files:_"
   ]
  },
  {
   "cell_type": "code",
   "execution_count": 6,
   "metadata": {},
   "outputs": [
    {
     "name": "stdout",
     "output_type": "stream",
     "text": [
      "Input dst:  ./kdst_7517_LB_0-100_TestMapScript.h5\n",
      "Output map file:  ./map_7517.h5\n",
      "Output histograms file:  ./histos_7517.h5\n"
     ]
    }
   ],
   "source": [
    "from invisible_cities.core.configure         import configure\n",
    "\n",
    "run_number = 7517\n",
    "file_bootstrap   = 'kr_emap_xy_100_100_r_6573_time.h5'\n",
    "output_maps_file = './'\n",
    "map_file_out     = os.path.join(output_maps_file, 'map_{0}.h5'.format(run_number)   )\n",
    "histo_file_out   = os.path.join(output_maps_file, 'histos_{0}.h5'.format(run_number))\n",
    "\n",
    "folder_dst = './'\n",
    "dst_file   = 'kdst_7517_LB_0-100_TestMapScript.h5'\n",
    "input_dst_filenames = folder_dst + dst_file\n",
    "\n",
    "print('Input dst: ', input_dst_filenames)\n",
    "print('Output map file: ', map_file_out)\n",
    "print('Output histograms file: ', histo_file_out)\n",
    "\n",
    "config_file    = '$ICARO/krcal/map_builder/config_LBphys.conf'\n",
    "\n",
    "config = configure(f'maps {config_file}'.split())"
   ]
  },
  {
   "cell_type": "markdown",
   "metadata": {},
   "source": [
    "_Let's store some parameters from configuration file for map building:_"
   ]
  },
  {
   "cell_type": "code",
   "execution_count": 7,
   "metadata": {},
   "outputs": [],
   "source": [
    "map_params = config.as_namespace.map_params\n",
    "nbins_z    = map_params['nbins_z'   ]\n",
    "nbins_e    = map_params['nbins_e'   ]\n",
    "z_range    = map_params['z_range'   ]\n",
    "e_range    = map_params['e_range'   ]\n",
    "chi2_range = map_params['chi2_range']\n",
    "lt_range   = map_params['lt_range'  ]\n",
    "nmin       = map_params['nmin'      ]\n",
    "r_max      = map_params['r_max'     ]\n",
    "r_fid      = map_params['r_fid'     ]\n",
    "x_range    = map_params['x_range'   ]\n",
    "y_range    = map_params['y_range'   ]"
   ]
  },
  {
   "cell_type": "markdown",
   "metadata": {},
   "source": [
    "***"
   ]
  },
  {
   "cell_type": "markdown",
   "metadata": {},
   "source": [
    "# v1.0"
   ]
  },
  {
   "cell_type": "markdown",
   "metadata": {},
   "source": [
    "__Checkout to v1.0__"
   ]
  },
  {
   "cell_type": "code",
   "execution_count": 8,
   "metadata": {
    "scrolled": false
   },
   "outputs": [
    {
     "name": "stdout",
     "output_type": "stream",
     "text": [
      "Note: checking out 'v1.0'.\r\n",
      "\r\n",
      "You are in 'detached HEAD' state. You can look around, make experimental\r\n",
      "changes and commit them, and you can discard any commits you make in this\r\n",
      "state without impacting any branches by performing another checkout.\r\n",
      "\r\n",
      "If you want to create a new branch to retain commits you create, you may\r\n",
      "do so (now or later) by using -b with the checkout command again. Example:\r\n",
      "\r\n",
      "  git checkout -b new_branch_name\r\n",
      "\r\n",
      "HEAD is now at 633f217... Merge pull request #24 from ausonandres/add_time_parameters\r\n",
      "\\nThis repository is configured for Git LFS but 'git-lfs' was not found on your path. If you no longer wish to use Git LFS, remove this hook by deleting .git/hooks/post-checkout.\\n\r\n"
     ]
    }
   ],
   "source": [
    "#%%capture\n",
    "! cd $HOME/ICAROS; export GIT_LFS_SKIP_SMUDGE=1; git checkout v1.0; "
   ]
  },
  {
   "cell_type": "code",
   "execution_count": 9,
   "metadata": {},
   "outputs": [
    {
     "name": "stdout",
     "output_type": "stream",
     "text": [
      "Total number of S2s   : 63176 \n",
      "Total number of events: 54091\n",
      "Events after selection: 43404\n"
     ]
    },
    {
     "data": {
      "image/png": "[encoded data removed]",
      "text/plain": [
       "<Figure size 504x360 with 8 Axes>"
      ]
     },
     "metadata": {
      "needs_background": "light"
     },
     "output_type": "display_data"
    }
   ],
   "source": [
    "import krcal\n",
    "from krcal.core.core_functions            import time_delta_from_time\n",
    "from krcal.core.ranges_and_bins_functions import kr_ranges_and_bins\n",
    "from krcal.core.analysis_functions        import kr_event\n",
    "from krcal.core.io_functions              import read_maps\n",
    "from krcal.core.correction_functions      import e0_xy_correction\n",
    "from krcal.core.map_functions             import amap_max\n",
    "from krcal.core.analysis_functions        import selection_in_band\n",
    "from krcal.core.analysis_functions        import plot_selection_in_band\n",
    "from krcal.core.selection_functions       import select_xy_sectors_df\n",
    "from krcal.core.selection_functions       import event_map_df\n",
    "from krcal.core.fitmap_functions          import fit_map_xy_df\n",
    "from krcal.core.map_functions             import tsmap_from_fmap\n",
    "from krcal.core.map_functions             import amap_from_tsmap\n",
    "from krcal.core.map_functions             import amap_average\n",
    "from krcal.core.map_functions             import relative_errors\n",
    "from krcal.core.map_functions             import amap_replace_nan_by_mean\n",
    "from krcal.core.xy_maps_functions         import draw_xy_maps\n",
    "from krcal.core.map_functions             import add_mapinfo\n",
    "from krcal.core.io_functions              import write_maps\n",
    "from krcal.core.kr_types                  import FitType\n",
    "from krcal.core.kr_types                  import ASectorMap\n",
    "import logging\n",
    "import warnings\n",
    "warnings.filterwarnings(\"ignore\")\n",
    "logging.disable(logging.DEBUG)\n",
    "this_script_logger = logging.getLogger(__name__)\n",
    "this_script_logger.setLevel(logging.INFO)\n",
    "\n",
    "dst_full = load_dst(input_dst_filenames, \"DST\", \"Events\")\n",
    "unique_events = ~dst_full.event.duplicated()\n",
    "\n",
    "number_of_S2s_full  = np.size         (unique_events)\n",
    "number_of_evts_full = np.count_nonzero(unique_events)\n",
    "\n",
    "print(f\"Total number of S2s   : {number_of_S2s_full} \")\n",
    "print(f\"Total number of events: {number_of_evts_full}\")\n",
    "\n",
    "## Event Selection\n",
    "dst1s1 = dst_full[dst_full.nS1==1]\n",
    "dst    = dst1s1[dst1s1.nS2==1]\n",
    "dst    = dst[dst.R < 200]\n",
    "\n",
    "s2e_range = (2000, 18000)\n",
    "s2q_range = (200, 800)\n",
    "s1e_range = (3, 25)\n",
    "\n",
    "krTimes, krRanges, krNbins, krBins = kr_ranges_and_bins(dst,\n",
    "                                                        xxrange   = x_range,\n",
    "                                                        yrange    = y_range,\n",
    "                                                        zrange    = z_range,\n",
    "                                                        s2erange  = s2e_range,\n",
    "                                                        s1erange  = s1e_range,\n",
    "                                                        s2qrange  = s2q_range,\n",
    "                                                        xnbins    = default_n_bins,\n",
    "                                                        ynbins    = default_n_bins,\n",
    "                                                        znbins    = 15,\n",
    "                                                        s2enbins  = 25,\n",
    "                                                        s1enbins  = 10,\n",
    "                                                        s2qnbins  = 25,\n",
    "                                                        tpsamples = 1) # tsamples in seconds\n",
    "\n",
    "\n",
    "# Bootstrap correction\n",
    "emaps = read_maps(filename=file_bootstrap)\n",
    "norm = amap_max(emaps)\n",
    "E = e0_xy_correction(dst.S2e.values,\n",
    "                     dst.X.values,\n",
    "                     dst.Y.values,\n",
    "                     E0M = emaps.e0 / norm.e0, \n",
    "                     xr  = krRanges.X,\n",
    "                     yr  = krRanges.Y,\n",
    "                     nx  = 100, \n",
    "                     ny  = 100)\n",
    "\n",
    "range_krs2 = (10e+3,14e+3)\n",
    "kre = kr_event(dst)\n",
    "sel_krband, fpl, fph, hp, pp = selection_in_band(kre.Z,\n",
    "                                                 E,\n",
    "                                                 range_z = krRanges.Z,\n",
    "                                                 range_e = range_krs2,\n",
    "                                                 nbins_z = 50,\n",
    "                                                 nbins_e = 50,\n",
    "                                                 nsigma  = 3.5)\n",
    "\n",
    "dst = dst[sel_krband]\n",
    "print('Events after selection:', dst.event.nunique())\n",
    "# Time differences in seconds\n",
    "dst_time = dst.sort_values('event')\n",
    "T        = dst_time.time.values\n",
    "DT       = time_delta_from_time(T)\n",
    "dst      = dst.assign(DT=DT)\n",
    "\n",
    "KRES = select_xy_sectors_df(dst, krBins.X, krBins.Y)\n",
    "neM = event_map_df(KRES)\n",
    "\n",
    "\n",
    "with warnings.catch_warnings():\n",
    "    warnings.simplefilter(\"ignore\")\n",
    "    fpmxy = fit_map_xy_df(selection_map = KRES,\n",
    "                          event_map     = neM,\n",
    "                          n_time_bins   = 1,\n",
    "                          time_diffs    = DT,\n",
    "                          nbins_z       = krNbins.Z, \n",
    "                          nbins_e       = krNbins.S2e, \n",
    "                          range_z       = z_range, \n",
    "                          range_e       = e_range,\n",
    "                          energy        = 'S2e',\n",
    "                          fit           = FitType.unbined,\n",
    "                          n_min         = 100)\n",
    "\n",
    "times = fpmxy[0][0].ts\n",
    "tsm = tsmap_from_fmap(fpmxy)\n",
    "am = amap_from_tsmap(tsm, \n",
    "                     ts = 0, \n",
    "                     range_e     = e_range,\n",
    "                     range_chi2  = chi2_range,\n",
    "                     range_lt    = lt_range)\n",
    "\n",
    "#Get rid of outlayers that distort mean and error\n",
    "def asm_copy(amap):\n",
    "    return ASectorMap(chi2  = amap.chi2.copy(),\n",
    "                      e0    = amap.e0.copy(),\n",
    "                      lt    = amap.lt.copy(),\n",
    "                      e0u   = amap.e0u.copy(),\n",
    "                      ltu   = amap.ltu.copy(),\n",
    "                      mapinfo   = None)\n",
    "\n",
    "def regularize_maps_chi2(amap_old, x2range):\n",
    "\n",
    "    amap = asm_copy(amap_old)\n",
    "    \n",
    "    for i in range(len(amap.lt)):\n",
    "        for j in range(len(amap.lt[i])):\n",
    "            if amap.chi2[i][j] > x2range[1] or amap.chi2[i][j] < x2range[0]:\n",
    "                amap.lt[i][j] = np.nan\n",
    "                amap.ltu[i][j] = np.nan\n",
    "                amap.e0[i][j] = np.nan\n",
    "                amap.e0u[i][j] = np.nan\n",
    "\n",
    "    return amap\n",
    "\n",
    "regularize = True\n",
    "if regularize:\n",
    "    rmap = regularize_maps_chi2(am, x2range = (0, 2))\n",
    "    amap_average(rmap)\n",
    "    asm = relative_errors(rmap)\n",
    "else:\n",
    "    asm = relative_errors(am)\n",
    "\n",
    "amv = amap_average(asm)\n",
    "#asmAv = amap_replace_nan_by_mean(asm, amMean=amv)\n",
    "draw_xy_maps(asm,\n",
    "            e0lims  = (7000, 14000),\n",
    "            ltlims  = (1000, 15000),\n",
    "            eulims  = (0.0,  1),\n",
    "            lulims  = (0, 5),\n",
    "            figsize=(7,5))\n",
    "asm = add_mapinfo(asm, krRanges.X, krRanges.Y, krNbins.X, krNbins.Y, run_number)\n",
    "asm_v1 = asm\n",
    "#write_maps(asm, filename=emap_file_name)"
   ]
  },
  {
   "cell_type": "markdown",
   "metadata": {},
   "source": [
    "****"
   ]
  },
  {
   "cell_type": "markdown",
   "metadata": {},
   "source": [
    "# v2.0"
   ]
  },
  {
   "cell_type": "markdown",
   "metadata": {},
   "source": [
    "__Checkout to v2.0__"
   ]
  },
  {
   "cell_type": "code",
   "execution_count": 10,
   "metadata": {
    "scrolled": true
   },
   "outputs": [
    {
     "name": "stdout",
     "output_type": "stream",
     "text": [
      "Previous HEAD position was 633f217... Merge pull request #24 from ausonandres/add_time_parameters\n",
      "HEAD is now at 2647521... 26 Krcalib2.0\n",
      "\\nThis repository is configured for Git LFS but 'git-lfs' was not found on your path. If you no longer wish to use Git LFS, remove this hook by deleting .git/hooks/post-checkout.\\n\n"
     ]
    }
   ],
   "source": [
    "#%%capture\n",
    "! cd $HOME/ICAROS; export GIT_LFS_SKIP_SMUDGE=1; git checkout v2.0;"
   ]
  },
  {
   "cell_type": "code",
   "execution_count": 11,
   "metadata": {},
   "outputs": [
    {
     "name": "stdout",
     "output_type": "stream",
     "text": [
      "Total number of S2s   : 63176 \n",
      "Total number of events: 54091\n",
      "Events after selection: 43404\n",
      " set nans to average value of interval = 100025.0\n",
      " set nans to average value of interval = 50250.0\n"
     ]
    },
    {
     "data": {
      "image/png": "[encoded data removed]",
      "text/plain": [
       "<Figure size 504x360 with 8 Axes>"
      ]
     },
     "metadata": {
      "needs_background": "light"
     },
     "output_type": "display_data"
    }
   ],
   "source": [
    "import krcal\n",
    "from krcal.core.ranges_and_bins_functions     import kr_ranges_and_bins\n",
    "from krcal.core.core_functions                import time_delta_from_time\n",
    "from krcal.core.histo_functions               import h2d, h2\n",
    "from krcal.core.kr_types                      import PlotLabels\n",
    "from krcal.core.io_functions                  import read_maps\n",
    "from krcal.core.map_functions                 import amap_max\n",
    "from krcal.core.xy_maps_functions             import draw_xy_maps\n",
    "from krcal.core.core_functions                import timeit\n",
    "from krcal.core.correction_functions          import e0_xy_correction\n",
    "from krcal.core.selection_functions           import selection_in_band\n",
    "from krcal.core.selection_functions           import plot_selection_in_band\n",
    "from krcal.core.selection_functions           import selection_info\n",
    "from krcal.core.selection_functions           import select_xy_sectors_df\n",
    "from krcal.core.selection_functions           import event_map_df\n",
    "from krcal.core.fitmap_functions              import fit_map_xy_df\n",
    "from krcal.core.map_functions                 import tsmap_from_fmap\n",
    "from krcal.core.map_functions                 import amap_from_tsmap\n",
    "from krcal.core.map_functions                 import regularize_maps\n",
    "from krcal.core.map_functions                 import relative_errors\n",
    "from krcal.core.map_functions                 import amap_average\n",
    "from krcal.core.map_functions                 import amap_replace_nan_by_mean\n",
    "from krcal.core.kr_types                      import FitType\n",
    "from krcal.core.map_functions                 import add_mapinfo\n",
    "\n",
    "\n",
    "import logging\n",
    "import warnings\n",
    "warnings.filterwarnings(\"ignore\")\n",
    "logging.disable(logging.DEBUG)\n",
    "this_script_logger = logging.getLogger(__name__)\n",
    "this_script_logger.setLevel(logging.INFO)\n",
    "\n",
    "dst_full = load_dst(input_dst_filenames, \"DST\", \"Events\")\n",
    "unique_events = ~dst_full.event.duplicated()\n",
    "\n",
    "number_of_S2s_full  = np.size         (unique_events)\n",
    "number_of_evts_full = np.count_nonzero(unique_events)\n",
    "\n",
    "print(f\"Total number of S2s   : {number_of_S2s_full} \")\n",
    "print(f\"Total number of events: {number_of_evts_full}\")\n",
    "\n",
    "dst_f  = dst_full[in_range(dst_full.R, 0, 200) ]\n",
    "dst1s1 = dst_f[in_range(dst_f.nS1, 1,2)]\n",
    "dst    = dst1s1[in_range(dst1s1.nS2, 1, 2)]\n",
    "dst    = dst [in_range(dst.X, -200, 200)]\n",
    "dst    = dst [in_range(dst.Y, -200, 200)]\n",
    "\n",
    "\n",
    "RMAX      = 200\n",
    "s1e_range = (3, 25)\n",
    "s2e_range = (2000, 18000)\n",
    "s2q_range = (200, 800)\n",
    "\n",
    "\n",
    "krTimes, krRanges, krNbins, krBins = kr_ranges_and_bins(dst,\n",
    "                                                        xxrange   = x_range,\n",
    "                                                        yrange    = y_range,\n",
    "                                                        zrange    = z_range,\n",
    "                                                        s2erange  = s2e_range,\n",
    "                                                        s1erange  = s1e_range,\n",
    "                                                        s2qrange  = s2q_range,\n",
    "                                                        xnbins    = default_n_bins,\n",
    "                                                        ynbins    = default_n_bins,\n",
    "                                                        znbins    = 15,\n",
    "                                                        s2enbins  = 25,\n",
    "                                                        s1enbins  = 10,\n",
    "                                                        s2qnbins  = 25,\n",
    "                                                        tpsamples = 1) # tsamples in seconds\n",
    "\n",
    "dstx     = dst[in_range(dst.X, -RMAX, RMAX)]\n",
    "dst      = dstx[in_range(dstx.Y, -RMAX, RMAX)]\n",
    "\n",
    "bootstrap_corr_f   = file_bootstrap\n",
    "write_filtered_dst = False\n",
    "emaps = read_maps(filename=bootstrap_corr_f)\n",
    "norm = amap_max(emaps)\n",
    "\n",
    "E0 = e0_xy_correction(dst.S2e.values,\n",
    "                      dst.X.values,\n",
    "                      dst.Y.values,\n",
    "                      E0M = emaps.e0 / norm.e0, \n",
    "                      xr  = krRanges.X,\n",
    "                      yr  = krRanges.Y,\n",
    "                      nx  = 100, \n",
    "                      ny  = 100)\n",
    "\n",
    "range_krs2 = (10.0e+3,14e+3)\n",
    "sel_krband, fpl, fph, hp, pp = selection_in_band(dst.Z, E0,\n",
    "                                                 range_z = krRanges.Z,\n",
    "                                                 range_e = range_krs2,\n",
    "                                                 nbins_z = 50,\n",
    "                                                 nbins_e = 50,\n",
    "                                                 nsigma  = 3.5)\n",
    "dst  = dst.assign(E0=E0)\n",
    "dsts = dst[sel_krband]\n",
    "\n",
    "dst_time = dsts.sort_values('time')\n",
    "T        = dst_time.time.values\n",
    "DT       = time_delta_from_time(T)\n",
    "dsts     = dsts.assign(DT=DT)\n",
    "\n",
    "\n",
    "print('Events after selection:', dsts.event.nunique())\n",
    "\n",
    "# Map creation\n",
    "KXY = select_xy_sectors_df(dsts, krBins.X, krBins.Y)\n",
    "nXY = event_map_df(KXY)\n",
    "\n",
    "with warnings.catch_warnings():\n",
    "    warnings.simplefilter(\"ignore\")\n",
    "    fmxy = fit_map_xy_df(selection_map = KXY,\n",
    "              event_map      = nXY,\n",
    "              n_time_bins    = 1,\n",
    "              time_diffs     = DT,\n",
    "              nbins_z        = krNbins.Z, \n",
    "              nbins_e        = krNbins.S2e, \n",
    "              range_z        = z_range, \n",
    "              range_e        = e_range,\n",
    "              energy         = 'S2e',\n",
    "              z              = 'Z',\n",
    "              fit            = FitType.unbined,\n",
    "              n_min          = 100)\n",
    "\n",
    "tsm = tsmap_from_fmap(fmxy)\n",
    "am = amap_from_tsmap(tsm, \n",
    "                     ts = 0, \n",
    "                     range_e     = e_range,\n",
    "                     range_chi2  = chi2_range,\n",
    "                     range_lt    = lt_range)\n",
    "\n",
    "rmap = regularize_maps(am, erange=(50,200000), ltrange=(500,100000))\n",
    "asm = relative_errors(rmap)\n",
    "#amv = amap_average(asm)\n",
    "#asmAv = amap_replace_nan_by_mean(asm, amMean=amv)\n",
    "asm = add_mapinfo(asm, krRanges.X, krRanges.Y, krNbins.X, krNbins.Y, run_number=7517)\n",
    "\n",
    "asm_v2 = asm\n",
    "draw_xy_maps(asm_v2,\n",
    "            e0lims  = (7000, 14000),\n",
    "            ltlims  = (1000, 15000),\n",
    "            eulims  = (0.0,  1),\n",
    "            lulims  = (0, 5),\n",
    "            figsize = (7,5))"
   ]
  },
  {
   "cell_type": "markdown",
   "metadata": {},
   "source": [
    "***"
   ]
  },
  {
   "cell_type": "markdown",
   "metadata": {},
   "source": [
    "# clean_krcalib"
   ]
  },
  {
   "cell_type": "markdown",
   "metadata": {},
   "source": [
    "__Checkout to mmkekic/clean_krcalib branch__"
   ]
  },
  {
   "cell_type": "code",
   "execution_count": 12,
   "metadata": {
    "scrolled": true
   },
   "outputs": [],
   "source": [
    "%%capture\n",
    "! cd $HOME/ICAROS; export GIT_LFS_SKIP_SMUDGE=1; git remote add mmkekic https://github.com/mmkekic/ICAROS.git; git fetch mmkekic; git checkout mmkekic/clean_krcalib;"
   ]
  },
  {
   "cell_type": "code",
   "execution_count": 13,
   "metadata": {},
   "outputs": [
    {
     "name": "stdout",
     "output_type": "stream",
     "text": [
      "./kdst_7517_LB_0-100_TestMapScript.h5\n",
      "Map builder starting...\n",
      "Reading input files:\n",
      "    Input dst folder   : ./\n",
      "    Input boostrap map : kr_emap_xy_100_100_r_6573_time.h5\n",
      "    Input histogram map: z_dst_LB_mean_ref.h5\n",
      "Checking the dst and appling 1S1, 1S2 and z-band selections:\n",
      "    Number of events before any selection: 52879\n",
      "    1 S1 cut efficiency within the expectations (89.08%)\n",
      "    1 S2 cut efficiency within the expectations (98.24%)\n",
      "    Z band cut efficiency within the expectations (93.80%)\n",
      "    Number of events passing the cuts: 43404 (82.08%)\n",
      "Map computation:\n",
      "    Number of bins: 10x10\n",
      "    Number of failing fits: 0\n",
      "    Mean core E0: 12359.5+-nan pes\n",
      "    Mean core Lt: 7905.9+-nan mus\n",
      "Map successfully computed and saved in : ./map_7517.h5\n",
      "Control histograms saved in            : ./histos_7517.h5\n"
     ]
    }
   ],
   "source": [
    "import krcal\n",
    "from krcal.map_builder.map_builder_functions import map_builder\n",
    "from invisible_cities.reco.corrections_new   import read_maps\n",
    "from krcal.NB_utils   .xy_maps_functions     import draw_xy_maps\n",
    "import logging\n",
    "import warnings\n",
    "warnings.filterwarnings(\"ignore\")\n",
    "logging.disable(logging.DEBUG)\n",
    "this_script_logger = logging.getLogger(__name__)\n",
    "this_script_logger.setLevel(logging.INFO)\n",
    "\n",
    "ref_histo_file = 'z_dst_LB_mean_ref.h5'\n",
    "config = configure('maps $ICARO/krcal/map_builder/config_LBphys.conf'.split())\n",
    "print(folder_dst + dst_file)\n",
    "run_number     = 7517\n",
    "config.update(dict(run_number         = run_number,\n",
    "                   folder             = folder_dst   ,\n",
    "                   file_in            = dst_file,\n",
    "                   file_out_map       = map_file_out,\n",
    "                   file_out_hists     = histo_file_out,\n",
    "                   default_n_bins     = default_n_bins,\n",
    "                   file_bootstrap_map = file_bootstrap,\n",
    "                   ref_Z_histogram    = dict(\n",
    "                   ref_histo_file     = ref_histo_file,\n",
    "                   key_Z_histo        = 'histo_Z_dst')))\n",
    "map_builder(config.as_namespace)\n",
    "map_3 = read_maps(map_file_out)\n",
    "draw_xy_maps(map_3,\n",
    "             e0lims  = (7000, 14000),\n",
    "             ltlims  = (1000, 15000),\n",
    "             eulims  = (0.0,  1),\n",
    "             lulims  = (0, 5),\n",
    "             figsize = (7,5))"
   ]
  },
  {
   "cell_type": "markdown",
   "metadata": {},
   "source": [
    "***"
   ]
  },
  {
   "cell_type": "markdown",
   "metadata": {},
   "source": [
    "***"
   ]
  },
  {
   "cell_type": "markdown",
   "metadata": {},
   "source": [
    "# Map comparison"
   ]
  },
  {
   "cell_type": "markdown",
   "metadata": {},
   "source": [
    "## v1.0 & v2.0"
   ]
  },
  {
   "cell_type": "code",
   "execution_count": 15,
   "metadata": {},
   "outputs": [],
   "source": [
    "from invisible_cities.core.testing_utils   import assert_dataframes_close"
   ]
  },
  {
   "cell_type": "code",
   "execution_count": 16,
   "metadata": {},
   "outputs": [],
   "source": [
    "assert_dataframes_close(asm_v1.e0 , asm_v2.e0 , rtol=1e-5 )\n",
    "assert_dataframes_close(asm_v1.e0u, asm_v2.e0u, rtol=1e-5)\n",
    "assert_dataframes_close(asm_v1.lt , asm_v2.lt , rtol=1e-5 )\n",
    "assert_dataframes_close(asm_v1.ltu, asm_v2.ltu, rtol=1e-5)"
   ]
  },
  {
   "cell_type": "code",
   "execution_count": 17,
   "metadata": {},
   "outputs": [
    {
     "data": {
      "image/png": "[encoded data removed]",
      "text/plain": [
       "<Figure size 756x540 with 4 Axes>"
      ]
     },
     "metadata": {
      "needs_background": "light"
     },
     "output_type": "display_data"
    }
   ],
   "source": [
    "plt.figure(figsize=(10.5,7.5));\n",
    "e0_v1 = asm_v1.e0.values\n",
    "e0_v2 = asm_v2.e0.values\n",
    "plt.subplot(2,2,1);\n",
    "plt.hist(e0_v1.flatten()/e0_v2.flatten(), 100);\n",
    "plt.title('e0 map (v1/v2)');\n",
    "\n",
    "plt.subplot(2,2,2);\n",
    "e0u_v1 = asm_v1.e0u.values\n",
    "e0u_v2 = asm_v2.e0u.values\n",
    "plt.hist(e0u_v1.flatten()/e0u_v2.flatten(), 100);\n",
    "plt.title('e0u map (v1/v2)');\n",
    "\n",
    "plt.subplot(2,2,3);\n",
    "lt_v1 = asm_v1.lt.values\n",
    "lt_v2 = asm_v2.lt.values\n",
    "plt.hist(lt_v1.flatten()/lt_v2.flatten(), 100);\n",
    "plt.title('lt map (v1/v2)');\n",
    "\n",
    "plt.subplot(2,2,4);\n",
    "ltu_v1 = asm_v1.ltu.values\n",
    "ltu_v2 = asm_v2.ltu.values\n",
    "plt.hist(ltu_v1.flatten()/ltu_v2.flatten(), 100);\n",
    "plt.title('ltu map (v1/v2)');"
   ]
  },
  {
   "cell_type": "code",
   "execution_count": 18,
   "metadata": {},
   "outputs": [
    {
     "data": {
      "image/png": "[encoded data removed]",
      "text/plain": [
       "<Figure size 756x540 with 8 Axes>"
      ]
     },
     "metadata": {
      "needs_background": "light"
     },
     "output_type": "display_data"
    }
   ],
   "source": [
    "plt.figure(figsize=(10.5,7.5));\n",
    "plt.subplot(2,2,1);\n",
    "sns.heatmap(e0_v1/e0_v2, vmin=0.99, vmax=1.01);\n",
    "plt.title('e0 map (v1/v2)');\n",
    "\n",
    "plt.subplot(2,2,2);\n",
    "sns.heatmap(e0u_v1/e0u_v2, vmin=0.99, vmax=1.01);\n",
    "plt.title('e0u map (v1/v2)');\n",
    "\n",
    "plt.subplot(2,2,3);\n",
    "sns.heatmap(lt_v1/lt_v2, vmin=0.99, vmax=1.01);\n",
    "plt.title('lt map (v1/v2)');\n",
    "\n",
    "plt.subplot(2,2,4);\n",
    "sns.heatmap(ltu_v1/ltu_v2, vmin=0.99, vmax=1.01);\n",
    "plt.title('ltu map (v1/v2)');"
   ]
  },
  {
   "cell_type": "markdown",
   "metadata": {},
   "source": [
    "## v1.0 & v2.0 & mmkekic/clean_krcalib"
   ]
  },
  {
   "cell_type": "code",
   "execution_count": 19,
   "metadata": {},
   "outputs": [],
   "source": [
    "from krcal.map_builder.checking_functions import get_core"
   ]
  },
  {
   "cell_type": "code",
   "execution_count": 20,
   "metadata": {},
   "outputs": [],
   "source": [
    "mask_core = get_core(default_n_bins, 200, 200)"
   ]
  },
  {
   "cell_type": "code",
   "execution_count": 21,
   "metadata": {},
   "outputs": [],
   "source": [
    "map_v1 = asm_copy(asm_v1)\n",
    "map_v2 = asm_copy(asm_v2)"
   ]
  },
  {
   "cell_type": "code",
   "execution_count": 22,
   "metadata": {},
   "outputs": [],
   "source": [
    "map_v1.e0  = map_v1.e0.where(mask_core)\n",
    "map_v1.e0u = map_v1.e0u.where(mask_core)\n",
    "map_v1.lt  = map_v1.lt.where(mask_core)\n",
    "map_v1.ltu = map_v1.ltu.where(mask_core)\n",
    "\n",
    "map_v2.e0  = map_v2.e0.where(mask_core)\n",
    "map_v2.e0u = map_v2.e0u.where(mask_core)\n",
    "map_v2.lt  = map_v2.lt.where(mask_core)\n",
    "map_v2.ltu = map_v2.ltu.where(mask_core)"
   ]
  },
  {
   "cell_type": "code",
   "execution_count": 23,
   "metadata": {},
   "outputs": [],
   "source": [
    "map_new = read_maps(map_file_out)"
   ]
  },
  {
   "cell_type": "code",
   "execution_count": 24,
   "metadata": {},
   "outputs": [],
   "source": [
    "assert_dataframes_close(map_v1.e0 , map_new.e0 , rtol=1e-5)\n",
    "assert_dataframes_close(map_v1.e0u, map_new.e0u, rtol=1e-5)\n",
    "assert_dataframes_close(map_v1.lt , map_new.lt , rtol=1e-5)\n",
    "assert_dataframes_close(map_v1.ltu, map_new.ltu, rtol=1e-5)\n",
    "\n",
    "assert_dataframes_close(map_v2.e0 , map_new.e0 , rtol=1e-5)\n",
    "assert_dataframes_close(map_v2.e0u, map_new.e0u, rtol=1e-5)\n",
    "assert_dataframes_close(map_v2.lt , map_new.lt , rtol=1e-5)\n",
    "assert_dataframes_close(map_v2.ltu, map_new.ltu, rtol=1e-5)"
   ]
  }
 ],
 "metadata": {
  "kernelspec": {
   "display_name": "Python 3",
   "language": "python",
   "name": "python3"
  },
  "language_info": {
   "codemirror_mode": {
    "name": "ipython",
    "version": 3
   },
   "file_extension": ".py",
   "mimetype": "text/x-python",
   "name": "python",
   "nbconvert_exporter": "python",
   "pygments_lexer": "ipython3",
   "version": "3.7.0"
  }
 },
 "nbformat": 4,
 "nbformat_minor": 2
}
